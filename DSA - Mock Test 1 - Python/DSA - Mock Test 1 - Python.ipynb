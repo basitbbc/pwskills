{
 "cells": [
  {
   "cell_type": "markdown",
   "id": "496a247e-9807-43fb-9f58-8f5feb21ddd5",
   "metadata": {},
   "source": [
    "#### Move Zeroes\n",
    "Given an integer array nums, move all 0's to the end of it while maintaining the relative order of the non-zero elements.\n",
    "\n",
    "Note that you must do this in-place without making a copy of the array.\n",
    "\n",
    "Example 1:\n",
    "Input: nums = [0,1,0,3,12]\n",
    "Output: [1,3,12,0,0]\n",
    "\n",
    "Example 2:\n",
    "Input: nums = [0]\n",
    "Output: [0]\n",
    "\n",
    "Constraints:\n",
    "a. 1 <= nums.length <= 10^4\n",
    "b. -2^31 <= nums[i] <= 2^31 - 1"
   ]
  },
  {
   "cell_type": "code",
   "execution_count": 1,
   "id": "9cbc39b9-b1f1-4853-95ad-4e68e3a81f6b",
   "metadata": {},
   "outputs": [
    {
     "name": "stdout",
     "output_type": "stream",
     "text": [
      "[1, 3, 12, 0, 0]\n"
     ]
    }
   ],
   "source": [
    "def moveZeroes(nums):\n",
    "    left = right = 0\n",
    "    # Move non-zero elements to the left\n",
    "    while right < len(nums):\n",
    "        if nums[right] != 0:\n",
    "            nums[left], nums[right] = nums[right], nums[left]\n",
    "            left += 1\n",
    "        right += 1\n",
    "    \n",
    "nums = [0,1,0,3,12]\n",
    "\n",
    "moveZeroes(nums)\n",
    "print(nums)"
   ]
  },
  {
   "cell_type": "markdown",
   "id": "fe2f9b15-f205-43fc-9122-40fd6e110aff",
   "metadata": {},
   "source": [
    "#### First Unique Character in a String\n",
    "\n",
    "Given a string s, find the first non-repeating character in it and return its index. If it does not exist, return -1.\n",
    "\n",
    "Example 1:\n",
    "Input: s = \"leetcode\"\n",
    "Output: 0\n",
    "\n",
    "Example 2:\n",
    "Input: s = \"loveleetcode\"\n",
    "Output: 2\n",
    "\n",
    "Example 3:\n",
    "Input: s = \"aabb\"\n",
    "Output: -1\n",
    "\n",
    "Constraints:\n",
    "a. 1 <= s.length <= 10^5\n",
    "b. s consists of only lowercase English letters."
   ]
  },
  {
   "cell_type": "code",
   "execution_count": 9,
   "id": "3bed5b05-b4dc-4bb1-a8f2-dc34980e58e2",
   "metadata": {},
   "outputs": [
    {
     "name": "stdout",
     "output_type": "stream",
     "text": [
      "First unique character in 'leetcode' is 0\n",
      "First unique character in 'loveleetcode' is 2\n",
      "First unique character in 'aabb' is -1\n"
     ]
    }
   ],
   "source": [
    "from collections import Counter\n",
    "\n",
    "def uniqueChar(s):\n",
    "    # Count the occurrences of each character\n",
    "    char_count = Counter(s)\n",
    "    # Find the first unique character\n",
    "    for i, char in enumerate(s):\n",
    "        if char_count[char] == 1:\n",
    "            return i\n",
    "    return -1\n",
    "        \n",
    "s1 = \"leetcode\"\n",
    "print(f\"First unique character in '{s1}' is\",uniqueChar(s1))\n",
    "\n",
    "s2 = \"loveleetcode\"\n",
    "print(f\"First unique character in '{s2}' is\",uniqueChar(s2))\n",
    "\n",
    "s3 = \"aabb\"\n",
    "print(f\"First unique character in '{s3}' is\",uniqueChar(s3))"
   ]
  }
 ],
 "metadata": {
  "kernelspec": {
   "display_name": "Python 3 (ipykernel)",
   "language": "python",
   "name": "python3"
  },
  "language_info": {
   "codemirror_mode": {
    "name": "ipython",
    "version": 3
   },
   "file_extension": ".py",
   "mimetype": "text/x-python",
   "name": "python",
   "nbconvert_exporter": "python",
   "pygments_lexer": "ipython3",
   "version": "3.10.8"
  }
 },
 "nbformat": 4,
 "nbformat_minor": 5
}
